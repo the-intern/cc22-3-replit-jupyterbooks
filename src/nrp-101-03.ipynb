{
 "cells": [
  {
   "cell_type": "markdown",
   "id": "7fb962c3-9cee-4a60-923c-87ccc387f919",
   "metadata": {},
   "source": [
    "# This is the nrp third - really 4th - notebook"
   ]
  },
  {
   "cell_type": "code",
   "execution_count": null,
   "id": "5d391e17-c66d-433f-8912-430da446b4c5",
   "metadata": {},
   "outputs": [],
   "source": []
  }
 ],
 "metadata": {
  "kernelspec": {
   "display_name": "Python 3 (ipykernel)",
   "language": "python",
   "name": "python3"
  },
  "language_info": {
   "codemirror_mode": {
    "name": "ipython",
    "version": 3
   },
   "file_extension": ".py",
   "mimetype": "text/x-python",
   "name": "python",
   "nbconvert_exporter": "python",
   "pygments_lexer": "ipython3",
   "version": "3.8.13"
  }
 },
 "nbformat": 4,
 "nbformat_minor": 5
}
