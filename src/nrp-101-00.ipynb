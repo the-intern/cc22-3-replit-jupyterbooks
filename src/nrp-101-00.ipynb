{
 "cells": [
  {
   "cell_type": "markdown",
   "id": "d563218f",
   "metadata": {},
   "source": [
    "# Getting Started\n"
   ]
  },
  {
   "cell_type": "code",
   "execution_count": 1,
   "id": "3f1005e7",
   "metadata": {},
   "outputs": [],
   "source": [
    "# this is a comment \n",
    "# most comments begin with a # and everything after is ignored by the interpreter\n"
   ]
  },
  {
   "cell_type": "code",
   "execution_count": 2,
   "id": "4b999576",
   "metadata": {},
   "outputs": [
    {
     "data": {
      "text/plain": [
       "3"
      ]
     },
     "execution_count": 2,
     "metadata": {},
     "output_type": "execute_result"
    }
   ],
   "source": [
    "# Use Python interpreter as a calculator\n",
    "3"
   ]
  },
  {
   "cell_type": "markdown",
   "id": "11f3594e",
   "metadata": {},
   "source": [
    "## Python\n"
   ]
  },
  {
   "cell_type": "markdown",
   "id": "c49d62ec",
   "metadata": {},
   "source": [
    "#### Est quaerat modi ut ut. Velit tempora tempora sed dolore modi ut adipisci. Adipisci velit voluptatem modi dolorem. Etincidunt voluptatem dolor sed. Dolor dolorem aliquam labore quisquam ut aliquam. Dolor adipisci dolor dolor est adipisci dolore labore. \n",
    "\n",
    "<img src=\"https://imgs.search.brave.com/olUrcIxE5LuCehZfY7C4B_E9rFHCNfPUSt9IN5uQQR0/rs:fit:1200:840:1/g:ce/aHR0cHM6Ly9uY2xh/Yi5jb20vd3AtY29u/dGVudC9tZWRpYS8y/MDE3LzA2L2NvdXJz/ZS1weXRob24taWlA/MnguanBn\" width=\"200\" height=\"100\">\n"
   ]
  },
  {
   "cell_type": "code",
   "execution_count": 4,
   "id": "31ff1f77",
   "metadata": {},
   "outputs": [
    {
     "data": {
      "text/plain": [
       "3"
      ]
     },
     "execution_count": 4,
     "metadata": {},
     "output_type": "execute_result"
    }
   ],
   "source": [
    "# Use Python interpreter as a calculator\n",
    "3"
   ]
  },
  {
   "cell_type": "code",
   "execution_count": 5,
   "id": "8a2ffc2a",
   "metadata": {},
   "outputs": [
    {
     "data": {
      "text/plain": [
       "4"
      ]
     },
     "execution_count": 5,
     "metadata": {},
     "output_type": "execute_result"
    }
   ],
   "source": [
    "2 + 2"
   ]
  },
  {
   "cell_type": "code",
   "execution_count": null,
   "id": "5df011e8",
   "metadata": {},
   "outputs": [],
   "source": []
  }
 ],
 "metadata": {
  "kernelspec": {
   "display_name": "Python 3 (ipykernel)",
   "language": "python",
   "name": "python3"
  },
  "language_info": {
   "codemirror_mode": {
    "name": "ipython",
    "version": 3
   },
   "file_extension": ".py",
   "mimetype": "text/x-python",
   "name": "python",
   "nbconvert_exporter": "python",
   "pygments_lexer": "ipython3",
   "version": "3.8.13"
  }
 },
 "nbformat": 4,
 "nbformat_minor": 5
}
