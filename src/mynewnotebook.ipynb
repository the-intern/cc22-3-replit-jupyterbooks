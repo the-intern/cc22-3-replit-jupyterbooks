{
 "cells": [
  {
   "cell_type": "code",
   "execution_count": 1,
   "id": "04a32bfd-584b-4ee6-be6f-8a7d4ae57518",
   "metadata": {},
   "outputs": [
    {
     "data": {
      "text/plain": [
       "7"
      ]
     },
     "execution_count": 1,
     "metadata": {},
     "output_type": "execute_result"
    }
   ],
   "source": [
    "3 + 4"
   ]
  },
  {
   "cell_type": "markdown",
   "id": "8dea0dc2-2d54-4fbd-b9e6-97c0f2eac1c1",
   "metadata": {},
   "source": [
    "# New NB"
   ]
  },
  {
   "cell_type": "code",
   "execution_count": null,
   "id": "4746b63a-e5a6-43db-bd3a-ed8dd9719e5f",
   "metadata": {},
   "outputs": [],
   "source": []
  }
 ],
 "metadata": {
  "kernelspec": {
   "display_name": "Python 3 (ipykernel)",
   "language": "python",
   "name": "python3"
  },
  "language_info": {
   "codemirror_mode": {
    "name": "ipython",
    "version": 3
   },
   "file_extension": ".py",
   "mimetype": "text/x-python",
   "name": "python",
   "nbconvert_exporter": "python",
   "pygments_lexer": "ipython3",
   "version": "3.8.13"
  }
 },
 "nbformat": 4,
 "nbformat_minor": 5
}
