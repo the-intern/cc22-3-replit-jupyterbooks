{
 "cells": [
  {
   "cell_type": "code",
   "execution_count": 1,
   "id": "01ebc811-d38b-481d-8f67-4e7cf2c7b2f7",
   "metadata": {},
   "outputs": [],
   "source": [
    "def ABC():\n",
    "    return None"
   ]
  },
  {
   "cell_type": "code",
   "execution_count": 2,
   "id": "c55bc851-5a30-403c-9439-26dc9a8beba0",
   "metadata": {},
   "outputs": [],
   "source": [
    "from math import pow"
   ]
  },
  {
   "cell_type": "code",
   "execution_count": 3,
   "id": "5fe9d011-fce2-42cd-bd27-18d4d544d041",
   "metadata": {},
   "outputs": [],
   "source": [
    "import numpy"
   ]
  },
  {
   "cell_type": "code",
   "execution_count": 4,
   "id": "b2931477-6e17-44d4-a231-a701d4a8df29",
   "metadata": {},
   "outputs": [
    {
     "ename": "TypeError",
     "evalue": "absolute() takes from 1 to 2 positional arguments but 0 were given",
     "output_type": "error",
     "traceback": [
      "\u001b[0;31m---------------------------------------------------------------------------\u001b[0m",
      "\u001b[0;31mTypeError\u001b[0m                                 Traceback (most recent call last)",
      "Input \u001b[0;32mIn [4]\u001b[0m, in \u001b[0;36m<cell line: 1>\u001b[0;34m()\u001b[0m\n\u001b[0;32m----> 1\u001b[0m \u001b[43mnumpy\u001b[49m\u001b[38;5;241;43m.\u001b[39;49m\u001b[43mabsolute\u001b[49m\u001b[43m(\u001b[49m\u001b[43m)\u001b[49m\n",
      "\u001b[0;31mTypeError\u001b[0m: absolute() takes from 1 to 2 positional arguments but 0 were given"
     ]
    }
   ],
   "source": [
    "numpy.absolute()\n"
   ]
  },
  {
   "cell_type": "code",
   "execution_count": null,
   "id": "c333ac1a-9d78-4ade-98fe-d0adeb4c5b10",
   "metadata": {},
   "outputs": [],
   "source": []
  }
 ],
 "metadata": {
  "kernelspec": {
   "display_name": "Python 3 (ipykernel)",
   "language": "python",
   "name": "python3"
  },
  "language_info": {
   "codemirror_mode": {
    "name": "ipython",
    "version": 3
   },
   "file_extension": ".py",
   "mimetype": "text/x-python",
   "name": "python",
   "nbconvert_exporter": "python",
   "pygments_lexer": "ipython3",
   "version": "3.8.13"
  }
 },
 "nbformat": 4,
 "nbformat_minor": 5
}
