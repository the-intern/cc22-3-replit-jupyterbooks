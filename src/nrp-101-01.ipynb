{
 "cells": [
  {
   "cell_type": "markdown",
   "id": "961518a7",
   "metadata": {},
   "source": [
    "# Variables\n",
    "\n",
    "Est quaerat modi ut ut. Velit tempora tempora sed dolore modi ut adipisci. Adipisci velit voluptatem modi dolorem. Etincidunt voluptatem dolor sed. Dolor dolorem aliquam labore quisquam ut aliquam. Dolor adipisci dolor dolor est adipisci dolore labore. Est non porro quiquia. Dolorem dolorem modi non dolore etincidunt.\\n\\nSed modi magnam labore velit. Adipisci tempora modi tempora non ut. Ipsum magnam tempora modi est. Neque sed porro velit. Dolore dolor amet quisquam sit labore. Eius labore modi voluptatem etincidunt modi est dolore.\\n\\nNeque modi quisquam dolore adipisci labore. Ut amet magnam sit. Voluptatem velit tempora numquam ut modi adipisci. Etincidunt magnam dolore etincidunt. Quiquia eius quisquam magnam sit. Voluptatem ipsum consectetur dolore dolorem sed quiquia dolor. Neque modi quaerat sit non etincidunt aliquam consectetur. Quisquam quisquam quiquia tempora. Modi non dolor consectetur.\\n\\nIpsum dolor dolore neque quisquam voluptatem dolore. Amet eius sed tempora. Magnam adipisci ut est non est tempora. Consectetur aliquam sit ut modi dolorem. Sit sit ipsum velit. Dolorem numquam porro etincidunt neque aliquam. Sed voluptatem labore amet tempora velit. Labore dolore numquam est sed. Ipsum neque quaerat numquam quaerat ipsum.\\n\\nModi dolorem ipsum non labore. Quaerat eius amet dolore. Numquam ipsum non quiquia velit ut amet ut. Modi quaerat etincidunt numquam magnam eius aliquam. Numquam porro sed velit. Numquam modi quiquia etincidunt est ut voluptatem.\n"
   ]
  },
  {
   "cell_type": "code",
   "execution_count": 7,
   "id": "1e55b3d8",
   "metadata": {},
   "outputs": [
    {
     "data": {
      "text/plain": [
       "2"
      ]
     },
     "execution_count": 7,
     "metadata": {},
     "output_type": "execute_result"
    }
   ],
   "source": [
    "1 + 1"
   ]
  },
  {
   "cell_type": "code",
   "execution_count": 4,
   "id": "202917bc",
   "metadata": {},
   "outputs": [],
   "source": [
    "# variables\n",
    "x = 1"
   ]
  },
  {
   "cell_type": "code",
   "execution_count": 5,
   "id": "08c26281",
   "metadata": {},
   "outputs": [
    {
     "data": {
      "text/plain": [
       "1"
      ]
     },
     "execution_count": 5,
     "metadata": {},
     "output_type": "execute_result"
    }
   ],
   "source": [
    "x"
   ]
  },
  {
   "cell_type": "code",
   "execution_count": 8,
   "id": "38fa612c",
   "metadata": {},
   "outputs": [
    {
     "data": {
      "text/plain": [
       "3"
      ]
     },
     "execution_count": 8,
     "metadata": {},
     "output_type": "execute_result"
    }
   ],
   "source": [
    "x = 2\n",
    "y = 1\n",
    "x + y"
   ]
  },
  {
   "cell_type": "code",
   "execution_count": null,
   "id": "4c5ea522",
   "metadata": {},
   "outputs": [],
   "source": []
  }
 ],
 "metadata": {
  "kernelspec": {
   "display_name": "Python 3 (ipykernel)",
   "language": "python",
   "name": "python3"
  },
  "language_info": {
   "codemirror_mode": {
    "name": "ipython",
    "version": 3
   },
   "file_extension": ".py",
   "mimetype": "text/x-python",
   "name": "python",
   "nbconvert_exporter": "python",
   "pygments_lexer": "ipython3",
   "version": "3.8.13"
  }
 },
 "nbformat": 4,
 "nbformat_minor": 5
}
