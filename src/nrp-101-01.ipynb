{
 "cells": [
  {
   "cell_type": "markdown",
   "id": "961518a7",
   "metadata": {},
   "source": [
    "# New Variables"
   ]
  },
  {
   "cell_type": "code",
   "execution_count": 1,
   "id": "3830c821-dc08-4ed2-9ad0-9578bf30501d",
   "metadata": {},
   "outputs": [],
   "source": [
    "def anewfunction():\n",
    "    pass "
   ]
  },
  {
   "cell_type": "code",
   "execution_count": null,
   "id": "e77d4172-6e76-4685-8cfd-a6ce40187ef4",
   "metadata": {},
   "outputs": [],
   "source": []
  }
 ],
 "metadata": {
  "kernelspec": {
   "display_name": "Python 3 (ipykernel)",
   "language": "python",
   "name": "python3"
  },
  "language_info": {
   "codemirror_mode": {
    "name": "ipython",
    "version": 3
   },
   "file_extension": ".py",
   "mimetype": "text/x-python",
   "name": "python",
   "nbconvert_exporter": "python",
   "pygments_lexer": "ipython3",
   "version": "3.8.13"
  },
  "vscode": {
   "interpreter": {
    "hash": "1a970d483b78a2ed42ff91bb59a79a5fb544c1825644164c079c2ad007b6b45d"
   }
  }
 },
 "nbformat": 4,
 "nbformat_minor": 5
}
